{
 "cells": [
  {
   "cell_type": "markdown",
   "id": "5a25f9a5",
   "metadata": {},
   "source": [
    "Import the data :\n",
    "\n",
    "mongoimport --type csv -d energy_data -c renewables --headerline --drop MER_T10_01.csv"
   ]
  },
  {
   "cell_type": "code",
   "execution_count": 1,
   "id": "a7f22d14",
   "metadata": {},
   "outputs": [],
   "source": [
    "from pymongo import MongoClient"
   ]
  },
  {
   "cell_type": "code",
   "execution_count": 2,
   "id": "24d3ad77",
   "metadata": {},
   "outputs": [],
   "source": [
    "# Create an instance of MongoClient\n",
    "mongo = MongoClient(port=27017)"
   ]
  },
  {
   "cell_type": "code",
   "execution_count": 3,
   "id": "27071788",
   "metadata": {},
   "outputs": [
    {
     "name": "stdout",
     "output_type": "stream",
     "text": [
      "['admin', 'classDB', 'config', 'energy_data', 'epa', 'fruitsDB', 'fruits_db', 'local', 'met', 'petsitly_marketing', 'uk_food']\n"
     ]
    }
   ],
   "source": [
    "# confirm that our new database was created\n",
    "print(mongo.list_database_names())"
   ]
  },
  {
   "cell_type": "code",
   "execution_count": 4,
   "id": "e42a4e0b",
   "metadata": {},
   "outputs": [],
   "source": [
    "# assign the database to a variable name\n",
    "db = mongo['energy_data']"
   ]
  },
  {
   "cell_type": "code",
   "execution_count": 5,
   "id": "f5a01b4d",
   "metadata": {},
   "outputs": [
    {
     "name": "stdout",
     "output_type": "stream",
     "text": [
      "['renewables']\n"
     ]
    }
   ],
   "source": [
    "# review the collections in thedatabase\n",
    "print(db.list_collection_names())"
   ]
  },
  {
   "cell_type": "code",
   "execution_count": 9,
   "id": "b9585d8d",
   "metadata": {},
   "outputs": [
    {
     "name": "stdout",
     "output_type": "stream",
     "text": [
      "{'_id': ObjectId('65b30793885056d94cefd6c7'), 'MSN': 'WDPRBUS', 'YYYYMM': 194913, 'Value': 1549.262, 'Column_Order': 1, 'Description': 'Wood Energy Production', 'Unit': 'Trillion Btu'}\n"
     ]
    }
   ],
   "source": [
    "# review a document in the collection\n",
    "print(db.renewables.find_one())"
   ]
  },
  {
   "cell_type": "code",
   "execution_count": 10,
   "id": "ac8cd3ac",
   "metadata": {},
   "outputs": [],
   "source": [
    "# assign the collection to a variable\n",
    "renewables = db['renewables']"
   ]
  },
  {
   "cell_type": "code",
   "execution_count": null,
   "id": "01dc1458",
   "metadata": {},
   "outputs": [],
   "source": []
  }
 ],
 "metadata": {
  "kernelspec": {
   "display_name": "Python 3 (ipykernel)",
   "language": "python",
   "name": "python3"
  },
  "language_info": {
   "codemirror_mode": {
    "name": "ipython",
    "version": 3
   },
   "file_extension": ".py",
   "mimetype": "text/x-python",
   "name": "python",
   "nbconvert_exporter": "python",
   "pygments_lexer": "ipython3",
   "version": "3.11.5"
  }
 },
 "nbformat": 4,
 "nbformat_minor": 5
}
